1. Cargar las bibliotecas y leer los datos

# Cargar librerías necesarias
library(tidyverse)
library(knitr)
library(scales)
library(wordcloud2)
library(visNetwork)
library(networkD3)
library(knitr)
library(ggplot2)

# Cambiar la fuente del texto a Oswald
library(showtext)
font_add_google("Oswald")
showtext_auto()

# Leer los datos
population <- read.csv("../input/population.csv", sep=",", fileEncoding="UTF-8")
age_population <- read.csv("../input/age_population.csv", sep=",", fileEncoding="UTF-8")
immigrants_emigrants_by_sex <- read.csv("../input/immigrants_emigrants_by_sex.csv", sep=",", fileEncoding="UTF-8")
immigrants_emigrants_by_destination <- read.csv("../input/immigrants_emigrants_by_destination.csv", sep=",", fileEncoding="UTF-8")
immigrants_emigrants_by_destination2 <- read.csv("../input/immigrants_emigrants_by_destination2.csv", sep=",", fileEncoding="UTF-8")
immigrants_by_nationality <- read.csv("../input/immigrants_by_nationality.csv", sep=",", fileEncoding="UTF-8")
births <- read.csv("../input/births.csv", sep=",", fileEncoding="UTF-8")
deaths <- read.csv("../input/deaths.csv", sep=",", fileEncoding="UTF-8")
deaths_causes <- read.csv("../input/deaths_causes.csv", sep=",", fileEncoding="UTF-8")
unemployment <- read.csv("../input/unemployment.csv", sep=",", fileEncoding="UTF-8")
baby_names <- read.csv("../input/most_frequent_baby_names.csv", sep=",")
names <- read.csv("../input/most_frequent_names.csv", sep=",")
surname <- read.csv("../input/most_frequent_surname.csv", sep=",")
