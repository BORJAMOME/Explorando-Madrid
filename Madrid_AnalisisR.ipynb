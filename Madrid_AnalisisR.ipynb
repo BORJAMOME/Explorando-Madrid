{
  "cells": [
    {
      "cell_type": "code",
      "execution_count": null,
      "id": "ca7e93e3",
      "metadata": {},
      "outputs": [],
      "source": [
        "# Este es un ejemplo de celda de código en el notebook"
      ]
    },



