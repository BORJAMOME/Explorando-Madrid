{
  "cells": [
    {
      "cell_type": "markdown",
      "metadata": {},
      "source": [
        "# Introducción\n",
        "En este proyecto centrado en la ciudad de Madrid, exploraré varios aspectos clave, como la población, los movimientos migratorios de inmigración y emigración, las estadísticas de nacimientos y defunciones, las tasas de desempleo y los nombres más comunes entre los residentes. Para realizar este análisis, utilizaré datos proporcionados por el Banco de Datos del Ayuntamiento de Madrid, una fuente confiable y completa.\n\n",
        "Este portal contiene una amplia variedad de conjuntos de datos sobre demografía, economía, educación, salud y otros aspectos relevantes de la vida en la ciudad de Madrid, proporcionando una base sólida para mi investigación."
      ]
    },
    {
      "cell_type": "markdown",
      "metadata": {},
      "source": [
        "# Carga de Datos ⚙️\n",
        "Inicialmente, importaremos las bibliotecas esenciales y procederemos a leer los conjuntos de datos."
      ]
    },
    {
      "cell_type": "code",
      "execution_count": null,
      "id": "1",
      "metadata": {},
      "outputs": [],
      "source": [
        "# Cargar bibliotecas\n",
        "library(tidyverse)\n",
        "library(knitr)\n",
        "library(scales)\n",
        "library(wordcloud2)\n",
        "library(visNetwork)\n",
        "library(networkD3)\n",
        "library(knitr)\n",
        "library(ggplot2)\n\n",
        "# Cambiar texto a Oswald\n",
        "library(showtext)\n",
        "font_add_google('Oswald')\n",
        "showtext_auto()\n"
      ]
    },
    {
      "cell_type": "code",
      "execution_count": null,
      "id": "2",
      "metadata": {},
      "outputs": [],
      "source": [
        "# Leer los datos\n",
        "population <- read.csv('../input/population.csv', sep=',', fileEncoding='UTF-8')\n",
        "age_population <- read.csv('../input/age_population.csv', sep=',', fileEncoding='UTF-8')\n",
        "immigrants_emigrants_by_sex <- read.csv('../input/immigrants_emigrants_by_sex.csv', sep=',', fileEncoding='UTF-8')\n",
        "immigrants_emigrants_by_destination <- read.csv('../input/immigrants_emigrants_by_destination.csv', sep=',', fileEncoding='UTF-8')\n",
        "immigrants_emigrants_by_destination2 <- read.csv('../input/immigrants_emigrants_by_destination2.csv', sep=',', fileEncoding='UTF-8')\n",
        "immigrants_by_nationality <- read.csv('../input/immigrants_by_nationality.csv', sep=',', fileEncoding='UTF-8')\n",
        "births <- read.csv('../input/births.csv', sep=',', fileEncoding='UTF-8')\n",
        "deaths <- read.csv('../input/deaths.csv', sep=',', fileEncoding='UTF-8')\n",
        "deaths_causes <- read.csv('../input/deaths_causes.csv', sep=',', fileEncoding='UTF-8')\n",
        "unemployment <- read.csv('../input/unemployment.csv', sep=',', fileEncoding='UTF-8')\n",
        "baby_names <- read.csv('../input/most_frequent_baby_names.csv', sep=',')\n",
        "names <- read.csv('../input/most_frequent_names.csv', sep=',')\n",
        "surname <- read.csv('../input/most_frequent_surname.csv', sep=',')"
      ]
    }
  ],
  "metadata": {},
  "nbformat": 4,
  "nbformat_minor": 5
}

