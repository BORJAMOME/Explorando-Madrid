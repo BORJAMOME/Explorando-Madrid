{
  "cells": [
    {
      "cell_type": "code",
      "execution_count": null,
      "id": "ca7e93e3",
      "metadata": {},
      "outputs": [],
      "source": [
        "# Este es un ejemplo de celda de código en el notebook\n",
        "print('¡Hola, Madrid!')"
      ]
    },
    {
      "cell_type": "markdown",
      "metadata": {},
      "source": [
        "# Análisis de Datos de Madrid\n",
        "Este notebook explora los datos demográficos, económicos y sociales de Madrid."
      ]
    }
  ],
  "metadata": {},
  "nbformat": 4,
  "nbformat_minor": 5
}


