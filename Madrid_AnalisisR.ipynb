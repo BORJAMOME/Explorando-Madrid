{
  "cells": [
    {
      "cell_type": "markdown",
      "metadata": {},
      "source": [
        "# Explorando Madrid a través de sus datos\n",
        "En este proyecto, realizaré un análisis de datos sobre la ciudad de Madrid, enfocándome en aspectos clave como la población, los movimientos migratorios (inmigración y emigración), las tasas de natalidad y mortalidad, el desempleo y los nombres más comunes entre los residentes.\n\n",
        "Utilizaré datos proporcionados por el **Banco de Datos del Ayuntamiento de Madrid**, una fuente confiable y completa, que cubre diversos aspectos de la vida en la ciudad, como la demografía, la economía y la salud.\n\n",
        "Este análisis ofrecerá una visión general de la situación social y económica de Madrid entre 2018 y 2023."
      ]
    },
    {
      "cell_type": "markdown",
      "metadata": {},
      "source": [
        "# Carga de bibliotecas necesarias para analizar los datos 📚"
      ]
    },
    {
      "cell_type": "code",
      "execution_count": 1,
      "id": "1",
      "metadata": {},
      "outputs": [],
      "source": [
        "# Cargar bibliotecas\n",
        "library(tidyverse)\n",
        "library(knitr)\n",
        "library(scales)\n",
        "library(wordcloud2)\n",
        "library(visNetwork)\n",
        "library(networkD3)\n",
        "library(ggplot2)\n"
      ]
    },
    {
      "cell_type": "markdown",
      "metadata": {},
      "source": [
        "## Cargamos una fuente preseleccionada para los gráficos  🔤"
      ]
    },
    {
      "cell_type": "code",
      "execution_count": 2,
      "id": "2",
      "metadata": {},
      "outputs": [],
      "source": [
        "## Cambiar texto a Oswald\n",
        "library(showtext)\n",
        "font_add_google('Oswald')\n",
        "showtext_auto()"
      ]
    },
    {
      "cell_type": "markdown",
      "metadata": {},
      "source": [
        "## Carga de Datos ⚙️\n",
        "Procederemos a cargar los conjuntos de datos."
      ]
    },
    {
      "cell_type": "code",
      "execution_count": 3,
      "id": "3",
      "metadata": {},
      "outputs": [],
      "source": [
        "# Leer los datos\n",
        "population <- read.csv('../input/population.csv', sep=',', fileEncoding='UTF-8')\n",
        "age_population <- read.csv('../input/age_population.csv', sep=',', fileEncoding='UTF-8')\n",
        "immigrants_emigrants_by_sex <- read.csv('../input/immigrants_emigrants_by_sex.csv', sep=',', fileEncoding='UTF-8')\n",
        "immigrants_emigrants_by_destination <- read.csv('../input/immigrants_emigrants_by_destination.csv', sep=',', fileEncoding='UTF-8')\n",
        "immigrants_emigrants_by_destination2 <- read.csv('../input/immigrants_emigrants_by_destination2.csv', sep=',', fileEncoding='UTF-8')\n",
        "immigrants_by_nationality <- read.csv('../input/immigrants_by_nationality.csv', sep=',', fileEncoding='UTF-8')\n",
        "births <- read.csv('../input/births.csv', sep=',', fileEncoding='UTF-8')\n",
        "deaths <- read.csv('../input/deaths.csv', sep=',', fileEncoding='UTF-8')\n",
        "deaths_causes <- read.csv('../input/deaths_causes.csv', sep=',', fileEncoding='UTF-8')\n",
        "unemployment <- read.csv('../input/unemployment.csv', sep=',', fileEncoding='UTF-8')\n",
        "baby_names <- read.csv('../input/most_frequent_baby_names.csv', sep=',')\n",
        "names <- read.csv('../input/most_frequent_names.csv', sep=',')\n",
        "surname <- read.csv('../input/most_frequent_surname.csv', sep=',')"
      ]
    },
    {
      "cell_type": "markdown",
      "metadata": {},
      "source": [
        "## Análisis de Datos 📊\n",
        "### Población por Edad (2023)\n",
        "La distribución de la población está centrada en los rangos de edad de 35 a 44 años. Es interesante observar cómo la población masculina disminuye considerablemente a partir del rango de 40-44 años, mientras que en el género femenino la disminución es menos pronunciada. ¡Parece claro que los hombres viven menos años en Madrid!"
      ]
    },
    {
      "cell_type": "code",
      "execution_count": 4,
      "id": "4",
      "metadata": {},
      "outputs": [],
      "source": [
        "## Niveles ordenados para la edad\n",
        "age_population$Age <- ordered(age_population$Age, levels=c(\"0-4\", \"5-9\", \"10-14\", \"15-19\",\n",
        "                                                   \"20-24\", \"25-29\", \"30-34\", \"35-39\",\n",
        "                                                   \"40-44\", \"45-49\", \"50-54\", \"55-59\",\n",
        "                                                   \"60-64\", \"65-69\", \"70-74\", \"75-79\",\n",
        "                                                   \"80-84\", \"85-89\", \"90-94\", \"95-99\",  \n",
        "                                                   \"100&more\"))\n",
        "\n",
        "## Población por edad (2023)\n",
        "ggplot(data=age_population, aes(x=Age, fill=Gender)) +\n",
        "  geom_bar(data=filter(age_population, Gender==\"Female\"), aes(y=Number), stat=\"identity\") + \n",
        "  geom_bar(data=filter(age_population, Gender==\"Male\"), aes(y=Number), stat=\"identity\") + \n",
        "  scale_y_continuous(labels=comma) +\n",
        "  labs(title=\"Población por Edad en Madrid (2023)\", x=\"Edad\", y=\"Población\", fill=\"Género\") +\n",
        "  theme_minimal() + \n",
        "  theme(\n",
        "    plot.background = element_rect(fill = \"#f6f0ec\", color = NA)\n",
        "  ) +\n",
        "  theme(\n",
        "    panel.border = element_blank(), \n",
        "    panel.grid = element_blank(), \n",
        "    axis.line = element_line(color = \"#f6f0ec\"), \n",
        "    text = element_text(family = \"Oswald\", size = 15, color = \"black\") \n",
        "  )"
      ]
    },
    {
      "cell_type": "markdown",
      "metadata": {},
      "source": [
        "![Población por Edad en Madrid (2023)](images/1.population.png)"
      ]
    },
    {
      "cell_type": "markdown",
      "metadata": {},
      "source": [
        "### Población por Año (2018-2023)\n",
        "A continuación, analizaremos la población por año, observando cómo ha evolucionado a lo largo de los últimos años en Madrid. Este análisis nos proporcionará una visión sobre las tendencias demográficas a lo largo del tiempo."
      ]
    },
    {
      "cell_type": "code",
      "execution_count": 5,
      "id": "5",
      "metadata": {},
      "outputs": [],
      "source": [
        "## Población por Año (2018-2023)\n",
        "ggplot(data=population, aes(x=Year, y=Population)) +\n",
        "  geom_line(color = \"#1f77b4\", size = 1) +\n",
        "  geom_point(color = \"#ff7f0e\", size = 2) +\n",
        "  scale_y_continuous(labels=comma) +\n",
        "  labs(title=\"Evolución de la Población por Año en Madrid (2018-2023)\", x=\"Año\", y=\"Población\") +\n",
        "  theme_minimal() + \n",
        "  theme(\n",
        "    plot.background = element_rect(fill = \"#f6f0ec\", color = NA)\n",
        "  ) +\n",
        "  theme(\n",
        "    panel.border = element_blank(), \n",
        "    panel.grid = element_blank(), \n",
        "    axis.line = element_line(color = \"#f6f0ec\"), \n",
        "    text = element_text(family = \"Oswald\", size = 15, color = \"black\") \n",
        "  )"
      ]
    },
    {
      "cell_type": "markdown",
      "metadata": {},
      "source": [
        "![Población por Año en Madrid (2018-2023)](images/2.Age_population.png)"
      ]
    },
    {
      "cell_type": "markdown",
      "metadata": {},
      "source": [
        "### Análisis de la población por distritos de Madrid\n",
        "Ahora vamos a analizar la población por distritos. Podemos hacernos una idea del tamaño y la ubicación de cada distrito utilizando el siguiente mapa."
      ]
    },
    {
      "cell_type": "markdown",
      "metadata": {},
      "source": [
        "![Mapa de distritos de Madrid](images/Madrid_district_map.png)"
      ]
    }
  ],
  "metadata": {
    "kernelspec": {
      "display_name": "R",
      "language": "R",
      "name": "ir"
    },
    "language_info": {
      "codemirror_mode": {
        "name": "r",
        "version": 2
      },
      "file_extension": ".r",
      "mimetype": "text/x-r-source",
      "name": "R",
      "nbconvert_exporter": "python",
      "version": "4.3.0"
    }
  },
  "nbformat": 4,
  "nbformat_minor": 5
}

