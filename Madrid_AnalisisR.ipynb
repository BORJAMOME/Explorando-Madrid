{
  "cells": [
    {
      "cell_type": "markdown",
      "metadata": {},
      "source": [
        "# Explorando Madrid a través de sus datos\n",
        "En este proyecto, realizaré un análisis de datos sobre la ciudad de Madrid, enfocándome en aspectos clave como la población, los movimientos migratorios (inmigración y emigración), las tasas de natalidad y mortalidad, el desempleo y los nombres más comunes entre los residentes.\n\n",
        "Utilizaré datos proporcionados por el **Banco de Datos del Ayuntamiento de Madrid**, una fuente confiable y completa, que cubre diversos aspectos de la vida en la ciudad, como la demografía, la economía y la salud.\n\n",
        "Este análisis ofrecerá una visión general de la situación social y económica de Madrid entre 2018 y 2023."
      ]
    },
    {
      "cell_type": "markdown",
      "metadata": {},
      "source": [
        "# Carga de bibliotecas necesarias para analizar los datos 📚"
      ]
    },
    {
      "cell_type": "code",
      "execution_count": 1,
      "id": "1",
      "metadata": {},
      "outputs": [],
      "source": [
        "# Cargar bibliotecas\n",
        "library(tidyverse)\n",
        "library(knitr)\n",
        "library(scales)\n",
        "library(wordcloud2)\n",
        "library(visNetwork)\n",
        "library(networkD3)\n",
        "library(ggplot2)\n\n"
      ]
    },
    {
      "cell_type": "markdown",
      "metadata": {},
      "source": [
        "# Cargamos una fuente preseleccionada para los gráficos  🔤"
      ]
    },
    {
      "cell_type": "code",
      "execution_count": 2,
      "id": "2",
      "metadata": {},
      "outputs": [],
      "source": [
        "# Cambiar texto a Oswald\n",
        "library(showtext)\n",
        "font_add_google('Oswald')\n",
        "showtext_auto()\n"
      ]
    },
    {
      "cell_type": "markdown",
      "metadata": {},
      "source": [
        "# Carga de Datos ⚙️\n",
        "Procederemos a cargar los conjuntos de datos."
      ]
    },
    {
      "cell_type": "code",
      "execution_count": 3,
      "id": "3",
      "metadata": {},
      "outputs": [],
      "source": [
        "# Leer los datos\n",
        "population <- read.csv('../input/population.csv', sep=',', fileEncoding='UTF-8')\n",
        "age_population <- read.csv('../input/age_population.csv', sep=',', fileEncoding='UTF-8')\n",
        "immigrants_emigrants_by_sex <- read.csv('../input/immigrants_emigrants_by_sex.csv', sep=',', fileEncoding='UTF-8')\n",
        "immigrants_emigrants_by_destination <- read.csv('../input/immigrants_emigrants_by_destination.csv', sep=',', fileEncoding='UTF-8')\n",
        "immigrants_emigrants_by_destination2 <- read.csv('../input/immigrants_emigrants_by_destination2.csv', sep=',', fileEncoding='UTF-8')\n",
        "immigrants_by_nationality <- read.csv('../input/immigrants_by_nationality.csv', sep=',', fileEncoding='UTF-8')\n",
        "births <- read.csv('../input/births.csv', sep=',', fileEncoding='UTF-8')\n",
        "deaths <- read.csv('../input/deaths.csv', sep=',', fileEncoding='UTF-8')\n",
        "deaths_causes <- read.csv('../input/deaths_causes.csv', sep=',', fileEncoding='UTF-8')\n",
        "unemployment <- read.csv('../input/unemployment.csv', sep=',', fileEncoding='UTF-8')\n",
        "baby_names <- read.csv('../input/most_frequent_baby_names.csv', sep=',')\n",
        "names <- read.csv('../input/most_frequent_names.csv', sep=',')\n",
        "surname <- read.csv('../input/most_frequent_surname.csv', sep=',')"
      ]
    },
    {
      "cell_type": "markdown",
      "metadata": {},
      "source": [
        "# Análisis de Datos 📊\n",
        "### Población 👥\n",
        "El primer gráfico es un estudio sobre la población de la ciudad de Madrid entre los años 2018 y 2023, mostrando el porcentaje de hombres y mujeres cada año."
      ]
    },
    {
      "cell_type": "code",
      "execution_count": 4,
      "id": "4",
      "metadata": {},
      "outputs": [],
      "source": [
        "# Población por año\n",
        "# Niveles ordenados\n",
        "population$Year <- ordered(population$Year, levels=c(2018,2019,2020,2021,2022,2023))\n\n",
        "population %>%\n",
        "  group_by(Year, Gender) %>%\n",
        "  summarise(count=sum(Number)) %>%\n",
        "  mutate(percent=paste0(round((count/sum(count))*100, 2), \"%\")) %>%\n",
        "  ggplot(aes(x=Year, y=count)) +\n",
        "  geom_bar(stat=\"identity\", aes(fill=Gender)) +\n",
        "  geom_text(aes(label=percent, group=Gender), position=position_stack(vjust=0.5), size = 3) +\n",
        "  scale_y_continuous(labels=comma) +\n",
        "  scale_fill_manual(values = c(\"#91C8E4\", \"#FFABAB\"), name = \"Gender\") +\n",
        "  labs(x=\"Year\", y=\"Population\", title=\"Population by year (2018-2023)\") +\n",
        "  theme_minimal() + \n",
        "  theme(\n",
        "    plot.background = element_rect(fill = \"#f6f0ec\", color = NA)\n",
        "  ) +\n",
        "  theme(\n",
        "    panel.border = element_blank(), \n",
        "    panel.grid = element_blank(), \n",
        "    axis.line = element_line(color = \"#f6f0ec\"), \n",
        "    text = element_text(family = \"Oswald\", size = 15, color = \"black\") \n",
        "  )"
      ]
    }
  ],
  "metadata": {},
  "nbformat": 4,
  "nbformat_minor": 5
}
![Gráfico de población](images/1.population.png)

