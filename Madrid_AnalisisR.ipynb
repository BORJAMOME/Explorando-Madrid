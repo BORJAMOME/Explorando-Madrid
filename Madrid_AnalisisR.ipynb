{
  "cells": [
    {
      "cell_type": "markdown",
      "metadata": {},
      "source": [
        # Introducción

En este proyecto, realizaré un análisis de datos sobre la ciudad de Madrid, enfocándome en aspectos clave como la población, los movimientos migratorios (inmigración y emigración), las tasas de natalidad y mortalidad, el desempleo y los nombres más comunes entre los residentes. 

Utilizaré datos proporcionados por el **Banco de Datos del Ayuntamiento de Madrid**, una fuente confiable y completa, que cubre diversos aspectos de la vida en la ciudad, como la demografía, la economía y la salud.

Este análisis ofrecerá una visión general de la situación social y económica de Madrid entre 2018 y 2023.

      ]
    },
    {
      "cell_type": "markdown",
      "metadata": {},
      "source": [
        "# Carga de Datos ⚙️\n",
        "Inicialmente, importaremos las bibliotecas esenciales y procederemos a leer los conjuntos de datos."
      ]
    },
    {
      "cell_type": "code",
      "execution_count": null,
      "id": "1",
      "metadata": {},
      "outputs": [],
      "source": [
        "# Cargar bibliotecas\n",
        "library(tidyverse)\n",
        "library(knitr)\n",
        "library(scales)\n",
        "library(wordcloud2)\n",
        "library(visNetwork)\n",
        "library(networkD3)\n",
        "library(knitr)\n",
        "library(ggplot2)\n\n",
        "# Cambiar texto a Oswald\n",
        "library(showtext)\n",
        "font_add_google('Oswald')\n",
        "showtext_auto()\n"
      ]
    },
    {
      "cell_type": "code",
      "execution_count": null,
      "id": "2",
      "metadata": {},
      "outputs": [],
      "source": [
        "# Leer los datos\n",
        "population <- read.csv('../input/population.csv', sep=',', fileEncoding='UTF-8')\n",
        "age_population <- read.csv('../input/age_population.csv', sep=',', fileEncoding='UTF-8')\n",
        "immigrants_emigrants_by_sex <- read.csv('../input/immigrants_emigrants_by_sex.csv', sep=',', fileEncoding='UTF-8')\n",
        "immigrants_emigrants_by_destination <- read.csv('../input/immigrants_emigrants_by_destination.csv', sep=',', fileEncoding='UTF-8')\n",
        "immigrants_emigrants_by_destination2 <- read.csv('../input/immigrants_emigrants_by_destination2.csv', sep=',', fileEncoding='UTF-8')\n",
        "immigrants_by_nationality <- read.csv('../input/immigrants_by_nationality.csv', sep=',', fileEncoding='UTF-8')\n",
        "births <- read.csv('../input/births.csv', sep=',', fileEncoding='UTF-8')\n",
        "deaths <- read.csv('../input/deaths.csv', sep=',', fileEncoding='UTF-8')\n",
        "deaths_causes <- read.csv('../input/deaths_causes.csv', sep=',', fileEncoding='UTF-8')\n",
        "unemployment <- read.csv('../input/unemployment.csv', sep=',', fileEncoding='UTF-8')\n",
        "baby_names <- read.csv('../input/most_frequent_baby_names.csv', sep=',')\n",
        "names <- read.csv('../input/most_frequent_names.csv', sep=',')\n",
        "surname <- read.csv('../input/most_frequent_surname.csv', sep=',')"
      ]
    }
  ],
  "metadata": {},
  "nbformat": 4,
  "nbformat_minor": 5
}

