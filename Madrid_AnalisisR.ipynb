{
  "cells": [
    {
      "cell_type": "markdown",
      "metadata": {},
      "source": [
        "# Introduction\n",
        "In this project focused on the city of Madrid, I will explore various key aspects including population, immigration and emigration movements, birth and death statistics, unemployment rates, and the most common names among residents. To conduct this analysis, I will use data provided by the Banco de Datos del Ayuntamiento de Madrid, a reliable and comprehensive source.\n\n",
        "This portal contains a wide range of datasets on demographics, economy, education, health, and other relevant aspects of life in the city of Madrid, providing a solid foundation for my research."
      ]
    },
    {
      "cell_type": "markdown",
      "metadata": {},
      "source": [
        "# Loading Data ⚙️\n",
        "Initially, we'll import essential libraries and proceed to read the datasets."
      ]
    },
    {
      "cell_type": "code",
      "execution_count": null,
      "id": "1",
      "metadata": {},
      "outputs": [],
      "source": [
        "# Load libraries\n",
        "library(tidyverse)\n",
        "library(knitr)\n",
        "library(scales)\n",
        "library(wordcloud2)\n",
        "library(visNetwork)\n",
        "library(networkD3)\n",
        "library(knitr)\n",
        "library(ggplot2)\n\n",
        "# Change text to Oswald\n",
        "library(showtext)\n",
        "font_add_google('Oswald')\n",
        "showtext_auto()\n"
      ]
    },
    {
      "cell_type": "code",
      "execution_count": null,
      "id": "2",
      "metadata": {},
      "outputs": [],
      "source": [
        "# Read the data\n",
        "population <- read.csv('../input/population.csv', sep=',', fileEncoding='UTF-8')\n",
        "age_population <- read.csv('../input/age_population.csv', sep=',', fileEncoding='UTF-8')\n",
        "immigrants_emigrants_by_sex <- read.csv('../input/immigrants_emigrants_by_sex.csv', sep=',', fileEncoding='UTF-8')\n",
        "immigrants_emigrants_by_destination <- read.csv('../input/immigrants_emigrants_by_destination.csv', sep=',', fileEncoding='UTF-8')\n",
        "immigrants_emigrants_by_destination2 <- read.csv('../input/immigrants_emigrants_by_destination2.csv', sep=',', fileEncoding='UTF-8')\n",
        "immigrants_by_nationality <- read.csv('../input/immigrants_by_nationality.csv', sep=',', fileEncoding='UTF-8')\n",
        "births <- read.csv('../input/births.csv', sep=',', fileEncoding='UTF-8')\n",
        "deaths <- read.csv('../input/deaths.csv', sep=',', fileEncoding='UTF-8')\n",
        "deaths_causes <- read.csv('../input/deaths_causes.csv', sep=',', fileEncoding='UTF-8')\n",
        "unemployment <- read.csv('../input/unemployment.csv', sep=',', fileEncoding='UTF-8')\n",
        "baby_names <- read.csv('../input/most_frequent_baby_names.csv', sep=',')\n",
        "names <- read.csv('../input/most_frequent_names.csv', sep=',')\n",
        "surname <- read.csv('../input/most_frequent_surname.csv', sep=',')"
      ]
    }
  ],
  "metadata": {},
  "nbformat": 4,
  "nbformat_minor": 5
}



