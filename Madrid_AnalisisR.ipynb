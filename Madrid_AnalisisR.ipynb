{
 "cells": [
  {
   "cell_type": "markdown",
   "metadata": {},
   "source": [
    "# Análisis DatSet Titanic 🚢 "
   ]
  },
  {
   "cell_type": "markdown",
   "metadata": {},
   "source": [
    "### Exploración del DataSet \n",
    "\n",
    "Análisis de los Nulos\n",
    "* Lo primero es hacer un análisis de los nulos\n",
    "* Tendremos que hacer un recuento de los nulos en las columnas"
   ]
  },


