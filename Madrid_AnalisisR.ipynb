{
  "cell_type": "code",
  "execution_count": null,
  "metadata": {},
  "outputs": [],
  "source": [
    "# Cargar librerías necesarias\n",
    "library(tidyverse)\n",
    "library(knitr)\n",
    "library(scales)\n",
    "library(wordcloud2)\n",
    "library(visNetwork)\n",
    "library(networkD3)\n",
    "library(knitr)\n",
    "library(ggplot2)\n",
    "\n",
    "# Cambiar la fuente del texto a Oswald\n",
    "library(showtext)\n",
    "font_add_google('Oswald')\n",
    "showtext_auto()\n"
  ]
}

